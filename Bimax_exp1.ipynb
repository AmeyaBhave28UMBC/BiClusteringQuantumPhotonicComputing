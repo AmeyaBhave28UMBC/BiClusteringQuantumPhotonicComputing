{
 "cells": [
  {
   "cell_type": "code",
   "execution_count": 19,
   "metadata": {},
   "outputs": [],
   "source": [
    "import numpy as np\n",
    "\n",
    "\n",
    "class BiMax():\n",
    "    \"\"\"Method to find all maximal biclusters in a boolean array.\n",
    "    Attributes\n",
    "    ----------\n",
    "    `rows_` : array-like, shape (n_row_clusters, n_rows)\n",
    "        Results of the clustering. `rows[i, r]` is True if cluster `i`\n",
    "        contains row `r`. Available only after calling ``fit``.\n",
    "    `columns_` : array-like, shape (n_column_clusters, n_columns)\n",
    "        Results of the clustering, like `rows`.\n",
    "    \"\"\"\n",
    "\n",
    "    def fit(self, X):\n",
    "        \"\"\"Creates a biclustering for X.\n",
    "        Parameters\n",
    "        ----------\n",
    "        X : array-like, shape (n_samples, n_features)\n",
    "        \"\"\"\n",
    "        n_rows, n_cols = X.shape\n",
    "        result = self._conquer(X, set(range(n_rows)),\n",
    "                               set(range(n_cols)), [])\n",
    "        row_ind = []\n",
    "        col_ind = []\n",
    "        for rows, cols in result:\n",
    "            ri, ci = self._get_indicators(rows, cols, X.shape)\n",
    "            row_ind.append(ri)\n",
    "            col_ind.append(ci)\n",
    "        self.rows_ = np.vstack(row_ind)\n",
    "        self.columns_ = np.vstack(col_ind)\n",
    "\n",
    "    def _conquer(self, data, rows, cols, col_sets):\n",
    "        if np.all(data[np.array(list(rows))[:, np.newaxis], list(cols)]):\n",
    "            return [(rows, cols)]\n",
    "        rows_all, rows_none, rows_some, cols_all, cols_none = \\\n",
    "            self._divide(data, rows, cols, col_sets)\n",
    "        results_all = []\n",
    "        results_none = []\n",
    "        if rows_all:\n",
    "            results_all = self._conquer(data, rows_all.union(rows_some),\n",
    "                                        cols_all, col_sets)\n",
    "        if rows_none and not rows_some:\n",
    "            results_none = self._conquer(data, rows_none, cols_none, col_sets)\n",
    "        elif rows_some:\n",
    "            new_col_sets = col_sets[:]\n",
    "            new_col_sets.append(cols_none)\n",
    "            results_none = self._conquer(data,\n",
    "                                         rows_some.union(rows_none),\n",
    "                                         cols_all.union(cols_none),\n",
    "                                         new_col_sets)\n",
    "        return results_all + results_none\n",
    "\n",
    "    def _divide(self, data, rows, cols, col_sets):\n",
    "        new_rows, nz_cols = self._reduce(data, rows, cols, col_sets)\n",
    "        n_cols = len(cols)\n",
    "        cols_all = cols\n",
    "        for r in new_rows:\n",
    "            if 0 < len(nz_cols[r]) < n_cols:\n",
    "                cols_all = nz_cols[r]\n",
    "                break\n",
    "        cols_none = cols.difference(cols_all)\n",
    "        rows_all = set()\n",
    "        rows_none = set()\n",
    "        rows_some = set()\n",
    "        for r in new_rows:\n",
    "            if nz_cols[r].issubset(cols_all):\n",
    "                rows_all.add(r)\n",
    "            elif nz_cols[r].issubset(cols_none):\n",
    "                rows_none.add(r)\n",
    "            else:\n",
    "                rows_some.add(r)\n",
    "        return rows_all, rows_none, rows_some, cols_all, cols_none\n",
    "\n",
    "    def _reduce(self, data, rows, cols, col_sets):\n",
    "        row_idxs = np.array(list(rows))\n",
    "        col_idxs = np.array(list(cols))\n",
    "        subarray = data[row_idxs[:, np.newaxis], col_idxs]\n",
    "        nz_cols = {row_idxs[r]: set(col_idxs[np.nonzero(subarray[r])[0]])\n",
    "                   for r in range(row_idxs.shape[0])}\n",
    "        new_rows = set(r for r in row_idxs\n",
    "                       if nz_cols[r] and\n",
    "                       all(nz_cols[r].intersection(cset)\n",
    "                           for cset in col_sets))\n",
    "        return new_rows, nz_cols\n",
    "\n",
    "    def _get_indicators(self, rows, columns, shape):\n",
    "        \"\"\"Convert indices to indicator vectors\"\"\"\n",
    "        row_ind = np.zeros(shape[0], dtype=bool)\n",
    "        col_ind = np.zeros(shape[1], dtype=bool)\n",
    "        row_ind[list(rows)] = True\n",
    "        col_ind[list(columns)] = True\n",
    "        return row_ind, col_ind"
   ]
  },
  {
   "cell_type": "code",
   "execution_count": 20,
   "metadata": {},
   "outputs": [
    {
     "name": "stdout",
     "output_type": "stream",
     "text": [
      "[[0 0 0 1 0 1 0 0 1 1 0 1 1 0 0 0 0 0 1 1]\n",
      " [1 0 1 0 0 0 0 0 1 0 1 1 1 1 0 0 0 0 1 0]\n",
      " [1 0 1 0 1 0 1 1 0 1 1 1 0 1 0 1 0 1 1 0]\n",
      " [0 0 0 0 0 1 1 1 0 0 1 1 0 1 1 1 1 1 1 0]\n",
      " [0 1 1 1 0 0 1 1 1 0 1 1 1 1 1 0 1 0 1 0]\n",
      " [0 1 1 1 0 0 0 1 1 0 1 1 1 1 0 0 0 0 0 0]\n",
      " [1 1 1 1 0 1 0 0 0 1 1 1 1 0 0 1 0 0 1 0]\n",
      " [1 0 0 0 1 0 0 0 0 0 0 0 1 0 0 0 0 0 0 1]\n",
      " [1 1 0 0 1 1 0 1 0 0 1 1 1 1 1 1 0 1 1 1]\n",
      " [1 0 0 1 1 0 0 1 1 1 1 0 0 0 1 0 1 1 0 1]\n",
      " [0 0 0 1 0 1 0 1 1 0 0 0 1 1 1 1 1 1 0 1]\n",
      " [1 0 0 0 1 1 1 1 0 1 1 1 0 0 0 1 0 0 0 1]\n",
      " [1 0 1 0 0 0 0 0 0 1 1 1 0 0 0 1 0 1 1 0]\n",
      " [1 1 1 1 1 0 0 0 1 1 0 0 0 1 1 0 1 1 1 0]\n",
      " [1 0 1 0 1 1 0 0 0 0 1 1 0 1 1 1 1 1 1 1]\n",
      " [1 0 1 1 1 0 0 0 0 0 0 0 0 1 1 1 1 0 0 0]\n",
      " [1 1 1 1 0 0 1 0 0 1 1 0 1 0 0 0 0 0 1 0]\n",
      " [0 0 1 1 1 0 1 1 1 1 0 1 1 0 1 1 0 1 0 1]\n",
      " [1 1 1 0 0 1 1 0 1 1 1 0 1 1 0 0 1 0 0 0]\n",
      " [1 1 1 0 1 1 1 1 0 1 0 0 0 1 1 1 0 0 1 0]]\n"
     ]
    }
   ],
   "source": [
    "from random import randint\n",
    "def createBinaryMatrix(m,n):\n",
    "    M = []\n",
    "    for i in range(m):\n",
    "        row = []\n",
    "        for j in range(n):\n",
    "            val = randint(0,1)\n",
    "            row.append(val)\n",
    "\n",
    "        M.append(row)\n",
    "    return M\n",
    "\n",
    "# m is rows and n is columns\n",
    "m = 20\n",
    "n = 20\n",
    "bin_mat = createBinaryMatrix(m,n)\n",
    "\n",
    "# Print the binary matrix\n",
    "'''\n",
    "for row in bin_mat:\n",
    "    print(row)\n",
    "'''\n",
    "arr_bin_mat = np.array(bin_mat)\n",
    "n_rows, n_cols = arr_bin_mat.shape\n",
    "\n",
    "print(arr_bin_mat)\n",
    "\n",
    "model = BiMax()\n",
    "model.fit(arr_bin_mat)\n",
    "\n",
    "# get largest bicluster\n",
    "idx = np.argmax(list(model.rows_[i].sum() * model.columns_[i].sum()\n",
    "                     for i in range(len(model.rows_))))\n",
    "bc = np.outer(model.rows_[idx], model.columns_[idx])\n",
    "\n"
   ]
  },
  {
   "cell_type": "code",
   "execution_count": 26,
   "metadata": {},
   "outputs": [
    {
     "data": {
      "text/plain": [
       "([], [])"
      ]
     },
     "execution_count": 26,
     "metadata": {},
     "output_type": "execute_result"
    },
    {
     "data": {
      "image/png": "[encoded data removed]",
      "text/plain": [
       "<Figure size 640x480 with 1 Axes>"
      ]
     },
     "metadata": {},
     "output_type": "display_data"
    }
   ],
   "source": [
    "# Taken from the website which implements Bimax\n",
    "\n",
    "import numpy as np\n",
    "from matplotlib import pyplot as plt\n",
    "from bimax import BiMax\n",
    "\n",
    "generator = np.random.RandomState(1)\n",
    "data = generator.binomial(1, 0.5, (20, 20))\n",
    "\n",
    "model = BiMax()\n",
    "model.fit(data)\n",
    "\n",
    "# get largest bicluster\n",
    "idx = np.argmax(list(model.rows_[i].sum() * model.columns_[i].sum()\n",
    "                     for i in range(len(model.rows_))))\n",
    "bc = np.outer(model.rows_[idx], model.columns_[idx])\n",
    "\n",
    "# plot data and overlay largest bicluster\n",
    "plt.pcolor(data, cmap=plt.cm.Greys, shading='auto')\n",
    "plt.pcolor(bc, cmap=plt.cm.Greys, alpha=0.7, shading='auto')\n",
    "plt.axis('scaled')\n",
    "plt.xticks([])\n",
    "plt.yticks([])"
   ]
  },
  {
   "cell_type": "code",
   "execution_count": 30,
   "metadata": {},
   "outputs": [
    {
     "name": "stdout",
     "output_type": "stream",
     "text": [
      "300\n",
      "[False False  True False False  True False  True  True False False False\n",
      " False False False False False False  True False]\n"
     ]
    }
   ],
   "source": [
    "print(idx)\n",
    "print(bc[14])"
   ]
  },
  {
   "cell_type": "code",
   "execution_count": 43,
   "metadata": {},
   "outputs": [
    {
     "name": "stdout",
     "output_type": "stream",
     "text": [
      "[False False False  True False  True False False False  True False False\n",
      " False False  True False False  True  True False]\n",
      "[False False  True False False  True False  True  True False False False\n",
      " False False False False False False  True False]\n"
     ]
    }
   ],
   "source": [
    "# np.outer(model.rows_[idx], model.columns_[idx])\n",
    "print(model.rows_[idx])\n",
    "print(model.columns_[idx])"
   ]
  },
  {
   "cell_type": "code",
   "execution_count": 40,
   "metadata": {},
   "outputs": [
    {
     "name": "stdout",
     "output_type": "stream",
     "text": [
      "[13, 13, 9, 16, 11, 18, 18, 24, 14, 24, 14, 20, 16, 18, 21, 21, 24, 20, 10, 14, 16, 12, 18, 12, 20, 15, 14, 18, 18, 20, 20, 12, 11, 14, 16, 14, 10, 16, 16, 18, 18, 18, 20, 9, 12, 18, 12, 20, 20, 11, 16, 12, 16, 14, 18, 18, 20, 16, 18, 16, 18, 18, 20, 20, 12, 15, 12, 15, 15, 20, 24, 8, 14, 9, 10, 10, 12, 12, 15, 12, 12, 18, 16, 20, 20, 16, 21, 12, 12, 15, 16, 9, 8, 12, 7, 15, 8, 12, 8, 12, 9, 15, 12, 12, 10, 15, 20, 20, 21, 8, 9, 12, 16, 12, 9, 10, 10, 9, 12, 16, 15, 12, 12, 15, 16, 15, 12, 12, 10, 12, 9, 8, 12, 9, 8, 8, 9, 9, 8, 9, 9, 10, 12, 15, 16, 15, 12, 12, 12, 12, 14, 8, 9, 10, 9, 8, 9, 9, 12, 18, 16, 20, 21, 15, 18, 9, 6, 15, 14, 9, 12, 10, 14, 12, 12, 12, 16, 10, 16, 14, 15, 15, 16, 20, 14, 18, 14, 15, 18, 21, 20, 20, 14, 9, 16, 18, 14, 18, 15, 16, 15, 12, 12, 15, 12, 12, 12, 12, 12, 12, 15, 16, 18, 20, 20, 16, 12, 18, 12, 12, 12, 12, 15, 18, 16, 12, 15, 16, 12, 18, 18, 14, 22, 20, 13, 22, 18, 24, 24, 20, 24, 24, 24, 18, 21, 24, 24, 24, 24, 14, 18, 24, 25, 28, 25, 18, 20, 25, 24, 24, 25, 24, 25, 24, 21, 16, 18, 16, 18, 21, 18, 18, 20, 20, 20, 20, 16, 18, 20, 20, 15, 24, 20, 20, 21, 20, 20, 21, 18, 16, 20, 21, 20, 27, 14, 24, 16, 28, 18, 25, 30, 24, 20, 20, 24, 21, 24, 21, 16, 18, 16, 14, 18, 18, 16, 5, 20, 20, 12, 20, 21, 20, 12, 18, 12, 12, 18, 16, 18, 10, 16, 14, 18, 25, 16, 18, 20, 15, 15, 9, 12, 12, 12, 24, 21, 16, 15, 12, 21, 18, 16, 10, 11, 16, 21, 18, 20, 18, 16, 21, 18, 18, 20, 20, 12, 15, 20, 20, 18, 20, 20, 20, 20, 16, 18, 15, 16, 16, 15, 20, 20, 20, 15, 20, 20, 24, 24, 20, 18, 16, 18, 18, 21, 18, 16, 18, 12, 15, 15, 16, 16, 15, 20, 14, 18, 15, 16, 18, 21, 20, 18, 20, 15, 21, 18, 20, 20, 20, 16, 15, 12, 21, 16, 21, 18, 20, 20, 15, 14, 18, 20, 20, 15, 20, 18, 16, 18, 16, 20, 20, 20, 21, 21, 24, 20, 20, 20, 20, 20, 18, 18, 25, 20, 20, 24, 21, 18, 16, 15, 16, 20, 20, 16, 18, 16, 15, 18, 15, 14, 18, 20, 18, 20, 20, 24, 20, 21, 21, 18, 20, 16, 21, 16, 15, 16, 21, 18, 12, 12, 15, 15, 16, 12, 15, 12, 14, 12, 12, 15, 15, 10, 16, 15, 16, 16, 15, 15, 16, 12, 20, 12, 15, 15, 12, 18, 14, 18, 20, 15, 16, 10, 12, 16, 15, 15, 12, 16, 16, 18, 16, 20, 18, 18, 21, 18, 16, 15, 15, 20, 18, 20, 15, 20, 15, 20, 16, 18, 16, 18, 12, 15, 18, 16, 15, 14, 8, 12, 16, 18, 21, 20, 9, 10, 18, 16, 18, 16, 14, 18, 13, 10, 12, 12, 18, 12, 12, 12, 16, 10, 12, 12, 8, 12, 15, 16, 15, 12, 15, 16, 8, 9, 16, 15, 15, 12, 15, 12, 15, 12, 12, 6, 10, 8, 18, 14, 12, 16, 15, 12, 15, 18, 12, 11, 15, 12, 12, 8, 20, 15, 12, 12, 12, 15, 12, 15, 9, 15, 14, 16, 15, 20, 20, 12, 15, 12, 14, 16, 15, 12, 14, 12, 15, 12, 12, 12, 10, 9, 12, 15, 10, 12, 12, 16, 15, 12, 12, 16, 8, 12, 15, 15, 16, 15, 12, 9, 15, 16, 12, 9, 12, 12, 12, 12, 12, 12, 15, 15, 14, 9, 10, 10, 16, 15, 12, 9, 9, 20, 18, 14, 12, 15, 14, 15, 16, 12, 15, 15, 15, 16, 12, 9, 12, 18, 16, 12, 15, 14, 12, 12, 16, 12, 15, 8, 9, 16, 12, 15, 16, 15, 8, 15, 15, 16, 18, 14, 15, 16, 16, 12, 15, 12, 12, 20, 16, 18, 20, 24, 18, 18, 18, 15, 14, 18, 12, 14, 18, 16, 12, 15, 14, 9, 10, 15, 14, 12, 15, 14, 12, 12, 11, 16, 15, 12, 16, 15, 18, 18, 15, 16, 16, 13, 10, 15, 15, 14, 8, 12, 10, 18, 20, 12, 18, 15, 14, 14, 11, 16, 14, 14, 11, 10]\n",
      "5\n"
     ]
    }
   ],
   "source": [
    "print(list(model.rows_[i].sum() * model.columns_[i].sum()\n",
    "                     for i in range(len(model.rows_))))\n",
    "print(model.rows_[315].sum() * model.columns_[315].sum())"
   ]
  },
  {
   "cell_type": "code",
   "execution_count": 47,
   "metadata": {},
   "outputs": [
    {
     "data": {
      "text/plain": [
       "(791, 20)"
      ]
     },
     "execution_count": 47,
     "metadata": {},
     "output_type": "execute_result"
    }
   ],
   "source": [
    "np.shape(model.rows_)"
   ]
  },
  {
   "cell_type": "code",
   "execution_count": 48,
   "metadata": {},
   "outputs": [
    {
     "data": {
      "text/plain": [
       "(791, 20)"
      ]
     },
     "execution_count": 48,
     "metadata": {},
     "output_type": "execute_result"
    }
   ],
   "source": [
    "np.shape(model.columns_)"
   ]
  }
 ],
 "metadata": {
  "kernelspec": {
   "display_name": "Quantum_Computing_Project",
   "language": "python",
   "name": "python3"
  },
  "language_info": {
   "codemirror_mode": {
    "name": "ipython",
    "version": 3
   },
   "file_extension": ".py",
   "mimetype": "text/x-python",
   "name": "python",
   "nbconvert_exporter": "python",
   "pygments_lexer": "ipython3",
   "version": "3.9.18"
  }
 },
 "nbformat": 4,
 "nbformat_minor": 2
}
