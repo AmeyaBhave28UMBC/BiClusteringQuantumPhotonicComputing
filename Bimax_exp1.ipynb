{
 "cells": [
  {
   "cell_type": "code",
   "execution_count": 8,
   "metadata": {},
   "outputs": [],
   "source": [
    "import numpy as np\n",
    "\n",
    "\n",
    "class BiMax():\n",
    "    \"\"\"Method to find all maximal biclusters in a boolean array.\n",
    "    Attributes\n",
    "    ----------\n",
    "    `rows_` : array-like, shape (n_row_clusters, n_rows)\n",
    "        Results of the clustering. `rows[i, r]` is True if cluster `i`\n",
    "        contains row `r`. Available only after calling ``fit``.\n",
    "    `columns_` : array-like, shape (n_column_clusters, n_columns)\n",
    "        Results of the clustering, like `rows`.\n",
    "    \"\"\"\n",
    "\n",
    "    def fit(self, X):\n",
    "        \"\"\"Creates a biclustering for X.\n",
    "        Parameters\n",
    "        ----------\n",
    "        X : array-like, shape (n_samples, n_features)\n",
    "        \"\"\"\n",
    "        n_rows, n_cols = X.shape\n",
    "        result = self._conquer(X, set(range(n_rows)),\n",
    "                               set(range(n_cols)), [])\n",
    "        row_ind = []\n",
    "        col_ind = []\n",
    "        for rows, cols in result:\n",
    "            ri, ci = self._get_indicators(rows, cols, X.shape)\n",
    "            row_ind.append(ri)\n",
    "            col_ind.append(ci)\n",
    "        self.rows_ = np.vstack(row_ind)\n",
    "        self.columns_ = np.vstack(col_ind)\n",
    "\n",
    "    def _conquer(self, data, rows, cols, col_sets):\n",
    "        if np.all(data[np.array(list(rows))[:, np.newaxis], list(cols)]):\n",
    "            return [(rows, cols)]\n",
    "        rows_all, rows_none, rows_some, cols_all, cols_none = \\\n",
    "            self._divide(data, rows, cols, col_sets)\n",
    "        results_all = []\n",
    "        results_none = []\n",
    "        if rows_all:\n",
    "            results_all = self._conquer(data, rows_all.union(rows_some),\n",
    "                                        cols_all, col_sets)\n",
    "        if rows_none and not rows_some:\n",
    "            results_none = self._conquer(data, rows_none, cols_none, col_sets)\n",
    "        elif rows_some:\n",
    "            new_col_sets = col_sets[:]\n",
    "            new_col_sets.append(cols_none)\n",
    "            results_none = self._conquer(data,\n",
    "                                         rows_some.union(rows_none),\n",
    "                                         cols_all.union(cols_none),\n",
    "                                         new_col_sets)\n",
    "        return results_all + results_none\n",
    "\n",
    "    def _divide(self, data, rows, cols, col_sets):\n",
    "        new_rows, nz_cols = self._reduce(data, rows, cols, col_sets)\n",
    "        n_cols = len(cols)\n",
    "        cols_all = cols\n",
    "        for r in new_rows:\n",
    "            if 0 < len(nz_cols[r]) < n_cols:\n",
    "                cols_all = nz_cols[r]\n",
    "                break\n",
    "        cols_none = cols.difference(cols_all)\n",
    "        rows_all = set()\n",
    "        rows_none = set()\n",
    "        rows_some = set()\n",
    "        for r in new_rows:\n",
    "            if nz_cols[r].issubset(cols_all):\n",
    "                rows_all.add(r)\n",
    "            elif nz_cols[r].issubset(cols_none):\n",
    "                rows_none.add(r)\n",
    "            else:\n",
    "                rows_some.add(r)\n",
    "        return rows_all, rows_none, rows_some, cols_all, cols_none\n",
    "\n",
    "    def _reduce(self, data, rows, cols, col_sets):\n",
    "        row_idxs = np.array(list(rows))\n",
    "        col_idxs = np.array(list(cols))\n",
    "        subarray = data[row_idxs[:, np.newaxis], col_idxs]\n",
    "        nz_cols = {row_idxs[r]: set(col_idxs[np.nonzero(subarray[r])[0]])\n",
    "                   for r in range(row_idxs.shape[0])}\n",
    "        new_rows = set(r for r in row_idxs\n",
    "                       if nz_cols[r] and\n",
    "                       all(nz_cols[r].intersection(cset)\n",
    "                           for cset in col_sets))\n",
    "        return new_rows, nz_cols\n",
    "\n",
    "    def _get_indicators(self, rows, columns, shape):\n",
    "        \"\"\"Convert indices to indicator vectors\"\"\"\n",
    "        row_ind = np.zeros(shape[0], dtype=bool)\n",
    "        col_ind = np.zeros(shape[1], dtype=bool)\n",
    "        row_ind[list(rows)] = True\n",
    "        col_ind[list(columns)] = True\n",
    "        return row_ind, col_ind"
   ]
  },
  {
   "cell_type": "code",
   "execution_count": 9,
   "metadata": {},
   "outputs": [
    {
     "name": "stdout",
     "output_type": "stream",
     "text": [
      "[[1 0 0 0 0 1 1 0 1 0 1 0 0 1 0 0 0 1 1 0]\n",
      " [1 0 1 1 0 1 0 1 0 1 1 0 1 1 0 1 0 1 1 0]\n",
      " [1 1 0 1 0 1 1 1 1 0 0 1 0 1 0 1 1 0 0 1]\n",
      " [0 1 1 0 0 0 1 0 0 0 0 1 1 1 1 1 0 1 1 1]\n",
      " [0 0 1 0 1 0 0 1 1 0 1 0 1 1 0 0 1 0 1 1]\n",
      " [0 1 0 1 1 0 0 1 1 0 0 1 0 1 1 1 0 1 0 0]\n",
      " [1 0 1 0 1 1 1 0 1 1 0 0 1 1 1 0 0 0 0 0]\n",
      " [0 1 1 1 1 1 1 1 0 0 1 1 1 1 1 0 1 0 1 1]\n",
      " [1 1 0 0 0 1 1 1 1 0 1 0 0 1 0 1 1 1 0 0]\n",
      " [0 1 0 0 0 1 1 1 0 0 1 1 0 1 1 0 0 1 1 0]\n",
      " [1 1 1 1 1 0 0 0 0 1 0 0 1 1 1 1 0 0 1 1]\n",
      " [1 0 0 1 1 0 0 1 1 1 1 0 1 0 1 0 0 1 0 1]\n",
      " [0 0 1 1 1 0 1 0 1 0 0 0 1 1 1 0 0 1 0 1]\n",
      " [1 1 0 1 1 0 1 1 0 1 1 0 1 1 0 0 0 1 1 0]\n",
      " [1 1 1 0 0 1 1 0 0 1 1 0 1 0 0 0 1 1 1 0]\n",
      " [1 0 0 0 0 1 1 0 0 1 0 1 0 1 1 0 1 1 1 1]\n",
      " [0 0 0 0 0 0 0 0 1 0 1 0 1 1 1 0 0 1 1 0]\n",
      " [1 0 1 1 0 1 0 0 1 1 1 1 0 0 0 0 0 0 0 0]\n",
      " [0 1 0 1 1 0 1 1 1 0 0 0 1 0 1 0 1 1 1 1]\n",
      " [1 1 0 1 0 1 0 0 0 1 1 0 1 1 1 1 0 0 0 1]]\n"
     ]
    }
   ],
   "source": [
    "from random import randint\n",
    "def createBinaryMatrix(m,n):\n",
    "    M = []\n",
    "    for i in range(m):\n",
    "        row = []\n",
    "        for j in range(n):\n",
    "            val = randint(0,1)\n",
    "            row.append(val)\n",
    "\n",
    "        M.append(row)\n",
    "    return M\n",
    "\n",
    "# m is rows and n is columns\n",
    "m = 20\n",
    "n =20\n",
    "bin_mat = createBinaryMatrix(m,n)\n",
    "\n",
    "# Print the binary matrix\n",
    "'''\n",
    "for row in bin_mat:\n",
    "    print(row)\n",
    "'''\n",
    "arr_bin_mat = np.array(bin_mat)\n",
    "n_rows, n_cols = arr_bin_mat.shape\n",
    "\n",
    "print(arr_bin_mat)\n",
    "\n",
    "model = BiMax()\n",
    "model.fit(arr_bin_mat)\n",
    "\n",
    "# get largest bicluster\n",
    "idx = np.argmax(list(model.rows_[i].sum() * model.columns_[i].sum()\n",
    "                     for i in range(len(model.rows_))))\n",
    "bc = np.outer(model.rows_[idx], model.columns_[idx])\n",
    "\n"
   ]
  },
  {
   "cell_type": "code",
   "execution_count": 12,
   "metadata": {},
   "outputs": [
    {
     "name": "stdout",
     "output_type": "stream",
     "text": [
      "[[False False False False False False False False False False False False\n",
      "  False False False False False False False False]\n",
      " [False False False False False False False False False False False False\n",
      "  False False False False False False False False]\n",
      " [False False False False False False False False False False False False\n",
      "  False False False False False False False False]\n",
      " [False False False False False False False False False False False False\n",
      "  False False False False False False False False]\n",
      " [False False False False False False False False False False False False\n",
      "  False False False False False False False False]\n",
      " [False False False False False False False False False False False False\n",
      "  False False False False False False False False]\n",
      " [False False False False False False False False False False False False\n",
      "  False False False False False False False False]\n",
      " [False False False  True  True False False False False False False False\n",
      "   True False  True False False False False  True]\n",
      " [False False False False False False False False False False False False\n",
      "  False False False False False False False False]\n",
      " [False False False False False False False False False False False False\n",
      "  False False False False False False False False]\n",
      " [False False False  True  True False False False False False False False\n",
      "   True False  True False False False False  True]\n",
      " [False False False  True  True False False False False False False False\n",
      "   True False  True False False False False  True]\n",
      " [False False False  True  True False False False False False False False\n",
      "   True False  True False False False False  True]\n",
      " [False False False False False False False False False False False False\n",
      "  False False False False False False False False]\n",
      " [False False False False False False False False False False False False\n",
      "  False False False False False False False False]\n",
      " [False False False False False False False False False False False False\n",
      "  False False False False False False False False]\n",
      " [False False False False False False False False False False False False\n",
      "  False False False False False False False False]\n",
      " [False False False False False False False False False False False False\n",
      "  False False False False False False False False]\n",
      " [False False False  True  True False False False False False False False\n",
      "   True False  True False False False False  True]\n",
      " [False False False False False False False False False False False False\n",
      "  False False False False False False False False]]\n"
     ]
    }
   ],
   "source": [
    "#print(idx)\n",
    "print(bc)"
   ]
  },
  {
   "cell_type": "code",
   "execution_count": 16,
   "metadata": {},
   "outputs": [
    {
     "data": {
      "text/plain": [
       "([], [])"
      ]
     },
     "execution_count": 16,
     "metadata": {},
     "output_type": "execute_result"
    },
    {
     "data": {
      "image/png": "[encoded data removed]",
      "text/plain": [
       "<Figure size 640x480 with 1 Axes>"
      ]
     },
     "metadata": {},
     "output_type": "display_data"
    }
   ],
   "source": [
    "\n",
    "\n",
    "from matplotlib import pyplot as plt\n",
    "# plot data and overlay largest bicluster\n",
    "plt.pcolor(bin_mat, cmap=plt.cm.Greys, shading='auto')\n",
    "plt.pcolor(bc, cmap=plt.cm.Greys, alpha=0.7, shading='auto')\n",
    "plt.axis('scaled')\n",
    "plt.xticks([])\n",
    "plt.yticks([])"
   ]
  },
  {
   "cell_type": "code",
   "execution_count": 13,
   "metadata": {},
   "outputs": [
    {
     "data": {
      "text/plain": [
       "([], [])"
      ]
     },
     "execution_count": 13,
     "metadata": {},
     "output_type": "execute_result"
    },
    {
     "data": {
      "image/png": "[encoded data removed]",
      "text/plain": [
       "<Figure size 640x480 with 1 Axes>"
      ]
     },
     "metadata": {},
     "output_type": "display_data"
    }
   ],
   "source": [
    "from matplotlib import pyplot as plt\n",
    "# plot data and overlay largest bicluster\n",
    "plt.pcolor(bin_mat, cmap=plt.cm.Greys, shading='auto')\n",
    "# plt.pcolor(bc, cmap=plt.cm.Greys, alpha=0.7, shading='auto')\n",
    "plt.axis('scaled')\n",
    "plt.xticks([])\n",
    "plt.yticks([])"
   ]
  },
  {
   "cell_type": "code",
   "execution_count": 17,
   "metadata": {},
   "outputs": [
    {
     "data": {
      "text/plain": [
       "(array([False, False, False, False, False, False, False,  True, False,\n",
       "        False,  True,  True,  True, False, False, False, False, False,\n",
       "         True, False]),\n",
       " array([False, False, False,  True,  True, False, False, False, False,\n",
       "        False, False, False,  True, False,  True, False, False, False,\n",
       "        False,  True]))"
      ]
     },
     "execution_count": 17,
     "metadata": {},
     "output_type": "execute_result"
    }
   ],
   "source": [
    "model.rows_[idx], model.columns_[idx]"
   ]
  },
  {
   "cell_type": "code",
   "execution_count": 21,
   "metadata": {},
   "outputs": [
    {
     "name": "stdout",
     "output_type": "stream",
     "text": [
      "True\n",
      "True\n",
      "True\n",
      "True\n",
      "True\n",
      "True\n",
      "True\n",
      "True\n",
      "True\n",
      "True\n",
      "True\n",
      "True\n",
      "True\n",
      "True\n",
      "True\n",
      "True\n",
      "True\n",
      "True\n",
      "True\n",
      "True\n",
      "True\n",
      "True\n",
      "True\n",
      "True\n",
      "True\n",
      "25\n"
     ]
    }
   ],
   "source": [
    "count = 0\n",
    "for i in range (len(model.rows_[idx])):\n",
    "    for j in range(len(model.columns_[idx])):\n",
    "        if model.rows_[idx][i] == True and model.columns_[idx][j] == True:\n",
    "            print(bc[i][j])\n",
    "            count += 1\n",
    "\n",
    "print(count)"
   ]
  },
  {
   "cell_type": "code",
   "execution_count": null,
   "metadata": {},
   "outputs": [],
   "source": []
  }
 ],
 "metadata": {
  "kernelspec": {
   "display_name": "Quantum_Computing_Project",
   "language": "python",
   "name": "python3"
  },
  "language_info": {
   "codemirror_mode": {
    "name": "ipython",
    "version": 3
   },
   "file_extension": ".py",
   "mimetype": "text/x-python",
   "name": "python",
   "nbconvert_exporter": "python",
   "pygments_lexer": "ipython3",
   "version": "3.9.18"
  }
 },
 "nbformat": 4,
 "nbformat_minor": 2
}
